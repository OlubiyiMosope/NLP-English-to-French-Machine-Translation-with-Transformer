{
 "cells": [
  {
   "cell_type": "markdown",
   "id": "3a0627f0",
   "metadata": {},
   "source": [
    "# English 2 French Machine Translation with Transformer Model and Tensorflow"
   ]
  },
  {
   "cell_type": "code",
   "execution_count": 1,
   "id": "53180dff",
   "metadata": {
    "colab": {
     "base_uri": "https://localhost:8080/",
     "height": 34
    },
    "id": "53180dff",
    "outputId": "6aaeee63-9954-49ca-c324-0f28f1c9e6a9"
   },
   "outputs": [
    {
     "data": {
      "application/javascript": [
       "IPython.notebook.set_autosave_interval(300000)"
      ]
     },
     "metadata": {},
     "output_type": "display_data"
    },
    {
     "name": "stdout",
     "output_type": "stream",
     "text": [
      "Autosaving every 300 seconds\n"
     ]
    }
   ],
   "source": [
    "%autosave 300"
   ]
  },
  {
   "cell_type": "markdown",
   "id": "6d950b6f",
   "metadata": {},
   "source": [
    "## Table of Contents\n",
    "[1. Data Preparation](#1.-Data-Preparation)  \n",
    "[1.1 Load Data and Normalize Characters](#1.1-Load-Data-and-Normalize-Characters)  \n",
    "[1.2 Extract Sentence Length Information](#1.2-Extract-Sentence-Length-Information)  \n",
    "[1.3 Remove Duplicate English lines](#1.3-Remove-Duplicate-English-lines)  \n",
    "[1.4 Add \"start' and \"end\" Tokens](#1.4-Add-\"start\"-and-\"end\"-Tokens)  \n",
    "[1.5 Split into train, validation, and test pairs](#1.5-Split-into-train,-validation,-and-test-pairs)\n",
    "\n",
    "[2. Vectorizing the English and French text pairs](#2.-Vectorizing-the-English-and-French-text-pairs)  \n",
    "[2.1 Preparing datasets for the translation task](#2.1-Preparing-datasets-for-the-translation-task)\n",
    "\n",
    "[3. Sequence to Sequence Transformer Model for Machine Translation](#3.-Sequence-to-Sequence-Transformer-Model-for-Machine-Translation)  \n",
    "[3.1 Transformer Encoder](#3.1-Transformer-Encoder)  \n",
    "[3.2 Positional Embedding layer](#3.2-Positional-Embedding-layer)\n",
    "[3.3 Transformer Decoder](#3.3-Transformer-Decoder)  \n",
    "[3.4 End-to-end Transformer Model](#3.4-End-to-end-Transformer-Model)  \n",
    "[3.5 Translating new sentences with the Transformer model](#3.5-Translating-new-sentences-with-the-Transformer-model)  \n"
   ]
  },
  {
   "cell_type": "code",
   "execution_count": 7,
   "id": "1b38716d",
   "metadata": {
    "id": "1b38716d"
   },
   "outputs": [],
   "source": [
    "import re\n",
    "import string\n",
    "import random\n",
    "from unicodedata import normalize\n",
    "\n",
    "import numpy as np"
   ]
  },
  {
   "cell_type": "markdown",
   "id": "60ab5da9",
   "metadata": {
    "id": "60ab5da9"
   },
   "source": [
    "## 1. Data Preparation"
   ]
  },
  {
   "cell_type": "markdown",
   "id": "1e410666",
   "metadata": {
    "id": "1e410666"
   },
   "source": [
    "#### 1.1 Load Data and Normalize Characters"
   ]
  },
  {
   "cell_type": "markdown",
   "id": "29520089",
   "metadata": {
    "id": "29520089"
   },
   "source": [
    "Load the text file and normalize the characters by converting them to Unicode Normalization Form Compatibility Composition (NFKC) format:"
   ]
  },
  {
   "cell_type": "code",
   "execution_count": 8,
   "id": "40760ef6",
   "metadata": {
    "colab": {
     "base_uri": "https://localhost:8080/"
    },
    "id": "40760ef6",
    "outputId": "ed791816-d383-455d-f5c9-18702bcd8227"
   },
   "outputs": [
    {
     "data": {
      "text/plain": [
       "192341"
      ]
     },
     "execution_count": 8,
     "metadata": {},
     "output_type": "execute_result"
    }
   ],
   "source": [
    "with open('fra-eng/fra.txt') as file:\n",
    "    lines = ''.join(c for c in normalize('NFKC', file.read()))\n",
    "    lines = lines.split('\\n')[:-1]\n",
    "    \n",
    "len(lines)"
   ]
  },
  {
   "cell_type": "code",
   "execution_count": 9,
   "id": "df9fb4fa",
   "metadata": {
    "colab": {
     "base_uri": "https://localhost:8080/"
    },
    "id": "df9fb4fa",
    "outputId": "f7e23779-b266-425e-8e3b-87a8de508f14",
    "scrolled": true
   },
   "outputs": [
    {
     "name": "stdout",
     "output_type": "stream",
     "text": [
      "Don't cry over spilt milk.\tCe qui est fait est fait.\tCC-BY 2.0 (France) Attribution: tatoeba.org #4850071 (CK) & #9549 (sacredceltic) \n",
      "\n",
      "He sells cars.\tIl vend des voitures.\tCC-BY 2.0 (France) Attribution: tatoeba.org #434996 (lukaszpp) & #477542 (mamat) \n",
      "\n",
      "I can understand your point of view.\tJe peux comprendre votre point de vue.\tCC-BY 2.0 (France) Attribution: tatoeba.org #1096486 (CK) & #1099629 (sacredceltic) \n",
      "\n"
     ]
    }
   ],
   "source": [
    "# Three random samples of the data\n",
    "for line in random.sample(lines, 3):\n",
    "    print(line, '\\n')"
   ]
  },
  {
   "cell_type": "code",
   "execution_count": 10,
   "id": "fb07ef4f",
   "metadata": {
    "id": "fb07ef4f"
   },
   "outputs": [],
   "source": [
    "# separate out english and french sentences\n",
    "english, french = [], []\n",
    "\n",
    "for line in lines:\n",
    "    eng, fre, _ = line.split('\\t')\n",
    "    english.append(eng)\n",
    "    french.append(fre)"
   ]
  },
  {
   "cell_type": "markdown",
   "id": "d0980caa",
   "metadata": {
    "id": "d0980caa"
   },
   "source": [
    "#### 1.2 Extract Sentence Length Information\n",
    "Determine maximum, minimum and average lengths of English and French sentences. This information will help determine the maximum sequence length that will be used when preparing the data for the model."
   ]
  },
  {
   "cell_type": "code",
   "execution_count": 11,
   "id": "3dd215f5",
   "metadata": {
    "id": "3dd215f5"
   },
   "outputs": [],
   "source": [
    "def sequence_info(sequence):\n",
    "    seq_len = []\n",
    "    for seq in sequence:\n",
    "        seq = seq.split()\n",
    "        seq_len.append(len(seq))\n",
    "\n",
    "    return np.max(seq_len), np.min(seq_len), int(np.average(seq_len))"
   ]
  },
  {
   "cell_type": "code",
   "execution_count": 12,
   "id": "9bc9de39",
   "metadata": {
    "colab": {
     "base_uri": "https://localhost:8080/"
    },
    "id": "9bc9de39",
    "outputId": "de1a5089-7922-4b68-c24f-7ab56a154c4b"
   },
   "outputs": [
    {
     "name": "stdout",
     "output_type": "stream",
     "text": [
      "- The maximum number of tokens in any English sequence is 47\n",
      "- The minimum number of tokens in any English sequence is 1\n",
      "- The average number of tokens in all English sequences is 6\n"
     ]
    }
   ],
   "source": [
    "print(f\"\"\"- The maximum number of tokens in any English sequence is {sequence_info(english)[0]}\n",
    "- The minimum number of tokens in any English sequence is {sequence_info(english)[1]}\n",
    "- The average number of tokens in all English sequences is {sequence_info(english)[2]}\"\"\")"
   ]
  },
  {
   "cell_type": "code",
   "execution_count": 13,
   "id": "dee8893a",
   "metadata": {
    "colab": {
     "base_uri": "https://localhost:8080/"
    },
    "id": "dee8893a",
    "outputId": "dc36c6d4-6fe9-4f54-b616-515e0165bbaa"
   },
   "outputs": [
    {
     "name": "stdout",
     "output_type": "stream",
     "text": [
      "- The maximum number of tokens in any French sequence is 55\n",
      "- The minimum number of tokens in any French sequence is 1\n",
      "- The average number of tokens in all French sequences is 6\n"
     ]
    }
   ],
   "source": [
    "print(f\"\"\"- The maximum number of tokens in any French sequence is {sequence_info(french)[0]}\n",
    "- The minimum number of tokens in any French sequence is {sequence_info(french)[1]}\n",
    "- The average number of tokens in all French sequences is {sequence_info(french)[2]}\"\"\")"
   ]
  },
  {
   "cell_type": "code",
   "execution_count": 10,
   "id": "01fea5d4",
   "metadata": {
    "id": "01fea5d4"
   },
   "outputs": [],
   "source": []
  },
  {
   "cell_type": "markdown",
   "id": "cfe33ff5",
   "metadata": {
    "id": "cfe33ff5"
   },
   "source": [
    "#### 1.3 Remove Duplicate English lines\n",
    "Duplicates present in the data set will be removed.\n",
    "E.g \"Run!\" and \"Run.\" will be treated as duplicates since all punctuations would be removed anyway during text standardization, and thus will be seen as the same by the model."
   ]
  },
  {
   "cell_type": "code",
   "execution_count": 14,
   "id": "fa9b9135",
   "metadata": {
    "colab": {
     "base_uri": "https://localhost:8080/"
    },
    "id": "fa9b9135",
    "outputId": "ee88f5cd-a9f6-41af-cebc-dadcfbb46b98"
   },
   "outputs": [
    {
     "name": "stdout",
     "output_type": "stream",
     "text": [
      "Run!\tFile !\tCC-BY 2.0 (France) Attribution: tatoeba.org #906328 (papabear) & #2077454 (sacredceltic) \n",
      "\n",
      "Run!\tFilez !\tCC-BY 2.0 (France) Attribution: tatoeba.org #906328 (papabear) & #2077455 (sacredceltic) \n",
      "\n",
      "Run!\tCours !\tCC-BY 2.0 (France) Attribution: tatoeba.org #906328 (papabear) & #4580779 (franlexcois) \n",
      "\n",
      "Run!\tFuyez !\tCC-BY 2.0 (France) Attribution: tatoeba.org #906328 (papabear) & #7957917 (Micsmithel) \n",
      "\n",
      "Run!\tFuyons !\tCC-BY 2.0 (France) Attribution: tatoeba.org #906328 (papabear) & #7957918 (Micsmithel) \n",
      "\n",
      "Run.\tCours !\tCC-BY 2.0 (France) Attribution: tatoeba.org #4008918 (JSakuragi) & #906331 (sacredceltic) \n",
      "\n",
      "Run.\tCourez !\tCC-BY 2.0 (France) Attribution: tatoeba.org #4008918 (JSakuragi) & #906332 (sacredceltic) \n",
      "\n",
      "Run.\tPrenez vos jambes à vos cous !\tCC-BY 2.0 (France) Attribution: tatoeba.org #4008918 (JSakuragi) & #2077449 (sacredceltic) \n",
      "\n"
     ]
    }
   ],
   "source": [
    "for line in lines[8:16]:\n",
    "    print(line, '\\n')"
   ]
  },
  {
   "cell_type": "markdown",
   "id": "66db73ba",
   "metadata": {
    "id": "66db73ba"
   },
   "source": [
    "###### check if every english sentence ends with a punctuation"
   ]
  },
  {
   "cell_type": "code",
   "execution_count": 15,
   "id": "d3057ff8",
   "metadata": {
    "colab": {
     "base_uri": "https://localhost:8080/"
    },
    "id": "d3057ff8",
    "outputId": "a43901c3-aae9-4cc1-b6b9-8674cc31c02d"
   },
   "outputs": [
    {
     "data": {
      "text/plain": [
       "set()"
      ]
     },
     "execution_count": 15,
     "metadata": {},
     "output_type": "execute_result"
    }
   ],
   "source": [
    "pattern = re.compile(f\"[{re.escape(string.punctuation)}]$\")\n",
    "test = set()\n",
    "\n",
    "for seq in english:\n",
    "    match = re.search(pattern, seq)\n",
    "    if match is None:\n",
    "        test.add(0)\n",
    "\n",
    "# if the set is empty then it means every English sequence with a punctuation.\n",
    "test        "
   ]
  },
  {
   "cell_type": "code",
   "execution_count": 16,
   "id": "bc132450",
   "metadata": {
    "colab": {
     "base_uri": "https://localhost:8080/"
    },
    "id": "bc132450",
    "outputId": "971d3ff6-86cb-4b44-953e-91d84b9b81f2"
   },
   "outputs": [
    {
     "data": {
      "text/plain": [
       "134757"
      ]
     },
     "execution_count": 16,
     "metadata": {},
     "output_type": "execute_result"
    }
   ],
   "source": [
    "# Removing the duplicates\n",
    "idx_non_duplicates = {0}  # add the first index to the set\n",
    "\n",
    "for n, seq in enumerate(english):\n",
    "    if n+1 < len(english):\n",
    "        # if the sequence in the next line is not a duplicate of the current line add the index of the next line to the `idx_non_duplicates` set\n",
    "        if english[n][:-1] != english[n+1][:-1]:\n",
    "            idx_non_duplicates.add(n+1)\n",
    "            \n",
    "len(idx_non_duplicates)"
   ]
  },
  {
   "cell_type": "markdown",
   "id": "8e2b688d",
   "metadata": {
    "id": "8e2b688d"
   },
   "source": [
    "#### 1.4 Add \"start\" and \"end\" Tokens\n",
    "Add \"start' and \"end\" Tokens to the beginning and end of each non-duplicate French sequence."
   ]
  },
  {
   "cell_type": "code",
   "execution_count": 17,
   "id": "38aac033",
   "metadata": {
    "colab": {
     "base_uri": "https://localhost:8080/"
    },
    "id": "38aac033",
    "outputId": "83e4662a-bf78-4b68-f8f8-c4a98da07ec8",
    "scrolled": true
   },
   "outputs": [
    {
     "data": {
      "text/plain": [
       "134757"
      ]
     },
     "execution_count": 17,
     "metadata": {},
     "output_type": "execute_result"
    }
   ],
   "source": [
    "# convert to list\n",
    "idx_non_duplicates = list(idx_non_duplicates)\n",
    "len(idx_non_duplicates)"
   ]
  },
  {
   "cell_type": "code",
   "execution_count": 18,
   "id": "be486863",
   "metadata": {
    "colab": {
     "base_uri": "https://localhost:8080/"
    },
    "id": "be486863",
    "outputId": "27ae1ba8-4bd4-4fbc-ea5d-a21ae07266d7",
    "scrolled": true
   },
   "outputs": [
    {
     "name": "stdout",
     "output_type": "stream",
     "text": [
      "['[start] Savez-vous comment résoudre cette énigme ? [end]', 'Continuez à courir.', '[start] Je pourrais essayer. [end]']\n"
     ]
    }
   ],
   "source": [
    "for idx in idx_non_duplicates:\n",
    "    french[idx] = '[start] ' + french[idx] + ' [end]'\n",
    "    \n",
    "print(random.sample(french, 3))"
   ]
  },
  {
   "cell_type": "markdown",
   "id": "2ef44bd9",
   "metadata": {
    "id": "2ef44bd9"
   },
   "source": [
    "##### keep only non-duplicate English lines and its corresponding French translation."
   ]
  },
  {
   "cell_type": "code",
   "execution_count": 19,
   "id": "8a078bf5",
   "metadata": {
    "colab": {
     "base_uri": "https://localhost:8080/"
    },
    "id": "8a078bf5",
    "outputId": "a6ab6c4f-f8de-4842-c59f-4643d0b8042c"
   },
   "outputs": [
    {
     "name": "stdout",
     "output_type": "stream",
     "text": [
      "[('Tom works for the FBI.', '[start] Tom travaille pour le FBI. [end]'), ('Corporations are competing to fill the vacuum.', '[start] Les entreprises se concurrencent pour remplir le vide. [end]'), (\"That's Tom's house.\", \"[start] C'est la maison de Tom. [end]\")]\n"
     ]
    }
   ],
   "source": [
    "text_pairs = []\n",
    "for idx in idx_non_duplicates:\n",
    "    text_pairs.append((english[idx], french[idx]))\n",
    "\n",
    "print(random.sample(text_pairs, 3))"
   ]
  },
  {
   "cell_type": "markdown",
   "id": "99b56243",
   "metadata": {
    "id": "99b56243"
   },
   "source": [
    "#### 1.5 Split into train, validation, and test pairs"
   ]
  },
  {
   "cell_type": "code",
   "execution_count": 20,
   "id": "c1c42ef4",
   "metadata": {
    "id": "c1c42ef4"
   },
   "outputs": [],
   "source": [
    "random.shuffle(text_pairs)\n",
    "\n",
    "num_val_samples = int(0.15 * len(text_pairs))\n",
    "num_train_samples = len(text_pairs) - (2 * num_val_samples)\n",
    "\n",
    "train_pairs = text_pairs[:num_train_samples]\n",
    "val_pairs = text_pairs[num_train_samples:num_train_samples + num_val_samples]\n",
    "test_pairs = text_pairs[num_train_samples + num_val_samples:]"
   ]
  },
  {
   "cell_type": "markdown",
   "id": "67f2883f",
   "metadata": {
    "id": "67f2883f"
   },
   "source": [
    "## 2. Vectorizing the English and French text pairs"
   ]
  },
  {
   "cell_type": "code",
   "execution_count": 21,
   "id": "5de08012",
   "metadata": {
    "id": "5de08012"
   },
   "outputs": [],
   "source": [
    "import tensorflow as tf\n",
    "from tensorflow.keras import layers"
   ]
  },
  {
   "cell_type": "markdown",
   "id": "2277134e",
   "metadata": {},
   "source": [
    "Add French punctuation characters, guillemets (« ») to the `string.punctuation`. The characters in `string.punctuation` will be stripped from the sentences.  \n",
    "Remove the characters \"[\" and \"]\" from `string.punctuation` so that the start and end tokens, \"[start]\" and \"[end]\", will be preserved as they are."
   ]
  },
  {
   "cell_type": "code",
   "execution_count": 22,
   "id": "eed51e10",
   "metadata": {
    "id": "eed51e10"
   },
   "outputs": [],
   "source": [
    "strip_chars = string.punctuation + '«' + '»'\n",
    "strip_chars = strip_chars.replace('[', '')\n",
    "strip_chars = strip_chars.replace(']', '')\n",
    "\n",
    "def custom_standardization(input_string):\n",
    "    lowercase = tf.strings.lower(input_string)\n",
    "    return tf.strings.regex_replace(lowercase, \n",
    "                                    f'[{re.escape(strip_chars)}]', '')\n",
    "\n",
    "# restrict vocabulary size to 15,000 words, sentence length to 20 words each.\n",
    "vocabulary_size = 15_000\n",
    "sequence_length = 20\n",
    "\n",
    "# english layer\n",
    "source_vectorization = layers.TextVectorization(\n",
    "    max_tokens=vocabulary_size,\n",
    "    output_mode='int',\n",
    "    output_sequence_length=sequence_length\n",
    ")\n",
    "\n",
    "# french layer\n",
    "target_vectorization = layers.TextVectorization(\n",
    "    max_tokens=vocabulary_size,\n",
    "    output_mode='int',\n",
    "    output_sequence_length=sequence_length + 1,\n",
    "    standardize=custom_standardization\n",
    ")\n",
    "\n",
    "english_train_texts = [pair[0] for pair in train_pairs]\n",
    "french_train_texts = [pair[1] for pair in train_pairs]\n",
    "\n",
    "# learn the vocabulary of each language\n",
    "source_vectorization.adapt(english_train_texts)\n",
    "target_vectorization.adapt(french_train_texts)"
   ]
  },
  {
   "cell_type": "markdown",
   "id": "d95464e3",
   "metadata": {
    "id": "d95464e3"
   },
   "source": [
    "#### 2.1 Preparing datasets for the translation task\n",
    "Next, convert the data into a `tf.data` pipeline.  \n",
    "The data pipeline will return a tuple (inputs, target) where inputs is a dict with two keys, transformer “encoder_inputs” (the English sentence) and transformer “decoder_inputs” (the Spanish sentence), and target is the French sentence offset by one step ahead."
   ]
  },
  {
   "cell_type": "code",
   "execution_count": 23,
   "id": "f2571597",
   "metadata": {
    "id": "f2571597"
   },
   "outputs": [],
   "source": [
    "batch_size = 64\n",
    "\n",
    "def format_dataset(eng, fre):\n",
    "    eng = source_vectorization(eng)\n",
    "    fre = target_vectorization(fre)\n",
    "    return ({\n",
    "        'english': eng,\n",
    "        'french': fre[:, :-1],  # The end token is excluded to keep inputs and targets at the same length\n",
    "    }, fre[:, 1:])  # The target French sentence is one step ahead. Both are still the same length.\n",
    "\n",
    "def make_dataset(pairs):\n",
    "    eng_texts, fre_texts = zip(*pairs)\n",
    "    eng_texts = list(eng_texts)\n",
    "    fre_texts = list(fre_texts)\n",
    "    dataset = tf.data.Dataset.from_tensor_slices((eng_texts, fre_texts))\n",
    "    dataset = dataset.batch(batch_size)\n",
    "    dataset = dataset.map(format_dataset, num_parallel_calls=4)\n",
    "    return dataset.shuffle(2048).prefetch(16).cache()  # use in-memory caching to speed up preprocessing\n",
    "\n",
    "train_ds = make_dataset(train_pairs)\n",
    "val_ds = make_dataset(val_pairs)"
   ]
  },
  {
   "cell_type": "code",
   "execution_count": 24,
   "id": "b3e59dab",
   "metadata": {
    "colab": {
     "base_uri": "https://localhost:8080/"
    },
    "id": "b3e59dab",
    "outputId": "deab0361-d6e3-4f1a-c3a0-85ea29230f6a"
   },
   "outputs": [
    {
     "name": "stdout",
     "output_type": "stream",
     "text": [
      "inputs['english'].shape: (64, 20)\n",
      "inputs['french'].shape: (64, 20)\n",
      "targets.shape: (64, 20)\n"
     ]
    }
   ],
   "source": [
    "for inputs, targets in train_ds.take(1):\n",
    "    print(f\"inputs['english'].shape: {inputs['english'].shape}\")\n",
    "    print(f\"inputs['french'].shape: {inputs['french'].shape}\")\n",
    "    print(f\"targets.shape: {targets.shape}\")"
   ]
  },
  {
   "cell_type": "markdown",
   "id": "87cf0169",
   "metadata": {
    "id": "87cf0169"
   },
   "source": [
    "## 3. Sequence to Sequence Transformer Model for Machine Translation"
   ]
  },
  {
   "cell_type": "code",
   "execution_count": 25,
   "id": "f4a57965",
   "metadata": {
    "id": "f4a57965"
   },
   "outputs": [],
   "source": [
    "from tensorflow import keras"
   ]
  },
  {
   "cell_type": "markdown",
   "id": "1cefec7a",
   "metadata": {
    "id": "1cefec7a"
   },
   "source": [
    "#### 3.1 Transformer Encoder"
   ]
  },
  {
   "attachments": {
    "DLP%2011-368%20-%20The%20Transformer%20Encoder.PNG": {
     "image/png": "[encoded data removed]"
    }
   },
   "cell_type": "markdown",
   "id": "ee6877c9",
   "metadata": {},
   "source": [
    "![DLP%2011-368%20-%20The%20Transformer%20Encoder.PNG](attachment:DLP%2011-368%20-%20The%20Transformer%20Encoder.PNG)  \n",
    "\n",
    "(Deep Learning in Python, p.343)"
   ]
  },
  {
   "cell_type": "code",
   "execution_count": 26,
   "id": "aba23788",
   "metadata": {
    "id": "aba23788"
   },
   "outputs": [],
   "source": [
    "class TransformerEncoder(layers.Layer):\n",
    "    def __init__(self, embed_dim, dense_dim, num_heads, **kwargs):\n",
    "        super().__init__(**kwargs)\n",
    "        self.embed_dim = embed_dim\n",
    "        self.dense_dim = dense_dim\n",
    "        self.num_heads = num_heads\n",
    "        self.dense_proj = keras.Sequential(\n",
    "            [layers.Dense(dense_dim, activation='relu'),\n",
    "            layers.Dense(embed_dim)]\n",
    "        )\n",
    "        self.attention = layers.MultiHeadAttention(\n",
    "            num_heads=num_heads, key_dim=embed_dim)\n",
    "        self.layernorm_1 = layers.LayerNormalization()\n",
    "        self.layernorm_2 = layers.LayerNormalization()\n",
    "                \n",
    "    def call(self, inputs, mask=None):\n",
    "        if mask is not None:\n",
    "            mask = mask[:, tf.newaxis, :]   # The attention layer expects the mask to be 3D or 4D, so we expand its rank from the 2D mask generated by the Embedding layer.\n",
    "        attention_outputs = self.attention(\n",
    "            query=inputs,\n",
    "            value=inputs,\n",
    "            attention_mask=mask)\n",
    "        proj_inputs = self.layernorm_1(inputs + attention_outputs)\n",
    "        proj_outputs = self.dense_proj(proj_inputs)\n",
    "        return self.layernorm_2(proj_inputs + proj_outputs)\n",
    "        \n",
    "    def get_config(self):\n",
    "        config = super().get_config()\n",
    "        config.update({\n",
    "            'embed_dim': self.embed_dim,\n",
    "            'dense_dim': self.dense_dim,\n",
    "            'num_heads': self.num_heads,\n",
    "        })\n",
    "        return config"
   ]
  },
  {
   "cell_type": "markdown",
   "id": "aadaf02c",
   "metadata": {
    "id": "aadaf02c"
   },
   "source": [
    "#### 3.2 Positional Embedding layer"
   ]
  },
  {
   "cell_type": "code",
   "execution_count": 27,
   "id": "08ce13ad",
   "metadata": {
    "id": "08ce13ad"
   },
   "outputs": [],
   "source": [
    "class PositionalEmbedding(layers.Layer):\n",
    "    def __init__(self, sequence_length, input_dim, output_dim, **kwargs):\n",
    "        super().__init__(**kwargs)\n",
    "        # embedding layer for the token indices\n",
    "        self.token_embeddings = layers.Embedding(\n",
    "            input_dim=input_dim, output_dim=output_dim)\n",
    "        # embedding layer for the token positions\n",
    "        self.position_embeddings = layers.Embedding(\n",
    "            input_dim=sequence_length, output_dim=output_dim)\n",
    "        self.sequence_length = sequence_length\n",
    "        self.input_dim = input_dim\n",
    "        self.output_dim = output_dim\n",
    "        \n",
    "    def call(self, inputs):\n",
    "        length = tf.shape(inputs)[-1]\n",
    "        positions = tf.range(start=0, limit=length, delta=1)\n",
    "        embedded_tokens = self.token_embeddings(inputs)\n",
    "        embedded_positions = self.position_embeddings(positions)\n",
    "        # add the both embedding vectors together\n",
    "        return embedded_tokens + embedded_positions\n",
    "    \n",
    "    # this method be called automatically to generate a mask.\n",
    "    def compute_mask(self, inputs, mask=None):\n",
    "        return tf.math.not_equal(inputs, 0)\n",
    "    \n",
    "    # this method implements serialization so the model can be saved.\n",
    "    def get_config(self):\n",
    "        config = super().get_config()\n",
    "        config.update({\n",
    "            'sequence_length': self.sequence_length, \n",
    "            'input_dim': self.input_dim, \n",
    "            'output_dim': self.output_dim,\n",
    "        })\n",
    "        return config"
   ]
  },
  {
   "cell_type": "markdown",
   "id": "d8d64885",
   "metadata": {
    "id": "d8d64885"
   },
   "source": [
    "#### 3.3 Transformer Decoder"
   ]
  },
  {
   "cell_type": "code",
   "execution_count": 28,
   "id": "9c1cfa17",
   "metadata": {
    "id": "9c1cfa17"
   },
   "outputs": [],
   "source": [
    "class TransformerDecoder(layers.Layer):\n",
    "    def __init__(self, embed_dim, dense_dim, num_heads, **kwargs):\n",
    "        super().__init__(**kwargs)\n",
    "        self.embed_dim = embed_dim\n",
    "        self.dense_dim = dense_dim\n",
    "        self.num_heads = num_heads\n",
    "        self.dense_proj = keras.Sequential(\n",
    "            [layers.Dense(dense_dim, activation='relu'),\n",
    "            layers.Dense(embed_dim,),]\n",
    "        )\n",
    "        self.attention_1 = layers.MultiHeadAttention(\n",
    "            num_heads=num_heads, key_dim=embed_dim)\n",
    "        self.attention_2 = layers.MultiHeadAttention(\n",
    "            num_heads=num_heads, key_dim=embed_dim)\n",
    "        self.layernorm_1 = layers.LayerNormalization()\n",
    "        self.layernorm_2 = layers.LayerNormalization()\n",
    "        self.layernorm_3 = layers.LayerNormalization()\n",
    "        self.supports_masking = True  # This ensures that the layer will propagate its input mask to its outputs.\n",
    "        \n",
    "    def get_causal_attention_mask(self, inputs):\n",
    "        input_shape = tf.shape(inputs)\n",
    "        batch_size, sequence_length = input_shape[0], input_shape[1]\n",
    "        i = tf.range(sequence_length)[:, tf.newaxis]\n",
    "        j = tf.range(sequence_length)\n",
    "        \n",
    "        mask = tf.cast(i >= j, dtype='int32')\n",
    "        mask = tf.reshape(mask, (1, sequence_length, sequence_length))\n",
    "        multi = tf.concat(\n",
    "            [tf.expand_dims(batch_size, -1),\n",
    "             tf.constant([1,1], dtype=tf.int32)], axis=0)\n",
    "        return tf.tile(mask, multi)\n",
    "    \n",
    "    def call(self, inputs, encoder_output, mask=None):\n",
    "        causal_mask = self.get_causal_attention_mask(inputs)\n",
    "        if mask is not None:\n",
    "            padding_mask = tf.cast(\n",
    "                mask[:, tf.newaxis, :], dtype='int32')\n",
    "            padding_mask = tf.minimum(padding_mask, causal_mask)\n",
    "            \n",
    "        attention_1_output = self.attention_1(\n",
    "            query=inputs,\n",
    "            value=inputs,\n",
    "            key=inputs,\n",
    "            attention_mask=causal_mask)\n",
    "        attention_1_output = self.layernorm_1(inputs + attention_1_output)\n",
    "        \n",
    "        attention_2_output = self.attention_2(\n",
    "            query=attention_1_output,\n",
    "            value=encoder_output,\n",
    "            key=encoder_output,\n",
    "            attention_mask=padding_mask)\n",
    "        attention_2_output = self.layernorm_2(attention_1_output + attention_2_output)\n",
    "        proj_output = self.dense_proj(attention_2_output)\n",
    "        return self.layernorm_3(attention_2_output + proj_output)\n",
    "    \n",
    "    def get_config(self):\n",
    "        config = super().get_config()\n",
    "        config.update({\n",
    "            'embed_dim': self.embed_dim,\n",
    "            'dense_dim': self.dense_dim,\n",
    "            'num_heads': self.num_heads,\n",
    "        })\n",
    "        return config"
   ]
  },
  {
   "cell_type": "markdown",
   "id": "870eab63",
   "metadata": {
    "id": "870eab63"
   },
   "source": [
    "#### 3.4 End-to-end Transformer Model"
   ]
  },
  {
   "attachments": {
    "DLP%2011-384%20-%20Full%20Sequence-to-Sequence%20Transformer.PNG": {
     "image/png": "[encoded data removed]"
    }
   },
   "cell_type": "markdown",
   "id": "1095e3e5",
   "metadata": {},
   "source": [
    "![DLP%2011-384%20-%20Full%20Sequence-to-Sequence%20Transformer.PNG](attachment:DLP%2011-384%20-%20Full%20Sequence-to-Sequence%20Transformer.PNG)  \n",
    "\n",
    "(Deep Learning in Python, p.359)"
   ]
  },
  {
   "cell_type": "code",
   "execution_count": 29,
   "id": "5c7f8e2c",
   "metadata": {
    "id": "5c7f8e2c"
   },
   "outputs": [],
   "source": [
    "embed_dim = 256\n",
    "dense_dim = 2048\n",
    "num_heads = 8\n",
    "\n",
    "encoder_inputs = keras.Input(shape=(None,), dtype='int64', name='english')\n",
    "x = PositionalEmbedding(sequence_length, vocabulary_size, embed_dim)(encoder_inputs)\n",
    "encoder_outputs = TransformerEncoder(embed_dim, dense_dim, num_heads)(x)\n",
    "\n",
    "decoder_inputs = keras.Input(shape=(None,), dtype='int64', name='french')\n",
    "x = PositionalEmbedding(sequence_length, vocabulary_size, embed_dim)(decoder_inputs)\n",
    "x = TransformerDecoder(embed_dim, dense_dim, num_heads)(x, encoder_outputs)\n",
    "x = layers.Dropout(0.5)(x)\n",
    "decoder_outputs = layers.Dense(vocabulary_size, activation='softmax')(x)\n",
    "\n",
    "transformer = keras.Model([encoder_inputs, decoder_inputs], decoder_outputs)\n",
    "\n",
    "transformer.compile(optimizer='rmsprop',\n",
    "                   loss='sparse_categorical_crossentropy',\n",
    "                   metrics=['accuracy'])\n",
    "\n",
    "callbacks = [\n",
    "    keras.callbacks.ModelCheckpoint('saved_models/eng_fre_transformer_model.keras',\n",
    "                                   save_best_only=True)\n",
    "]"
   ]
  },
  {
   "cell_type": "markdown",
   "id": "0abacd15",
   "metadata": {},
   "source": [
    "###### Training the Transformer model"
   ]
  },
  {
   "cell_type": "code",
   "execution_count": 30,
   "id": "b7408254",
   "metadata": {
    "colab": {
     "base_uri": "https://localhost:8080/"
    },
    "id": "b7408254",
    "outputId": "49bd5e16-c3c7-440c-9921-ba6b8e6967a7",
    "scrolled": true
   },
   "outputs": [
    {
     "name": "stdout",
     "output_type": "stream",
     "text": [
      "Epoch 1/30\n",
      "1474/1474 [==============================] - 196s 127ms/step - loss: 1.6214 - accuracy: 0.4628 - val_loss: 1.2518 - val_accuracy: 0.5562\n",
      "Epoch 2/30\n",
      "1474/1474 [==============================] - 187s 127ms/step - loss: 1.2699 - accuracy: 0.5773 - val_loss: 1.0999 - val_accuracy: 0.6105\n",
      "Epoch 3/30\n",
      "1474/1474 [==============================] - 187s 127ms/step - loss: 1.1290 - accuracy: 0.6195 - val_loss: 1.0464 - val_accuracy: 0.6338\n",
      "Epoch 4/30\n",
      "1474/1474 [==============================] - 186s 127ms/step - loss: 1.0587 - accuracy: 0.6458 - val_loss: 1.0160 - val_accuracy: 0.6482\n",
      "Epoch 5/30\n",
      "1474/1474 [==============================] - 187s 127ms/step - loss: 1.0194 - accuracy: 0.6637 - val_loss: 0.9991 - val_accuracy: 0.6586\n",
      "Epoch 6/30\n",
      "1474/1474 [==============================] - 187s 127ms/step - loss: 0.9917 - accuracy: 0.6783 - val_loss: 0.9849 - val_accuracy: 0.6653\n",
      "Epoch 7/30\n",
      "1474/1474 [==============================] - 187s 127ms/step - loss: 0.9711 - accuracy: 0.6898 - val_loss: 0.9822 - val_accuracy: 0.6671\n",
      "Epoch 8/30\n",
      "1474/1474 [==============================] - 187s 127ms/step - loss: 0.9531 - accuracy: 0.7003 - val_loss: 0.9795 - val_accuracy: 0.6733\n",
      "Epoch 9/30\n",
      "1474/1474 [==============================] - 187s 127ms/step - loss: 0.9368 - accuracy: 0.7083 - val_loss: 0.9777 - val_accuracy: 0.6759\n",
      "Epoch 10/30\n",
      "1474/1474 [==============================] - 185s 126ms/step - loss: 0.9203 - accuracy: 0.7162 - val_loss: 0.9855 - val_accuracy: 0.6735\n",
      "Epoch 11/30\n",
      "1474/1474 [==============================] - 186s 126ms/step - loss: 0.9047 - accuracy: 0.7239 - val_loss: 0.9857 - val_accuracy: 0.6731\n",
      "Epoch 12/30\n",
      "1474/1474 [==============================] - 185s 126ms/step - loss: 0.8899 - accuracy: 0.7302 - val_loss: 0.9804 - val_accuracy: 0.6808\n",
      "Epoch 13/30\n",
      "1474/1474 [==============================] - 185s 125ms/step - loss: 0.8756 - accuracy: 0.7363 - val_loss: 0.9803 - val_accuracy: 0.6817\n",
      "Epoch 14/30\n",
      "1474/1474 [==============================] - 184s 125ms/step - loss: 0.8616 - accuracy: 0.7424 - val_loss: 0.9940 - val_accuracy: 0.6783\n",
      "Epoch 15/30\n",
      "1474/1474 [==============================] - 185s 125ms/step - loss: 0.8485 - accuracy: 0.7476 - val_loss: 0.9923 - val_accuracy: 0.6802\n",
      "Epoch 16/30\n",
      "1474/1474 [==============================] - 185s 125ms/step - loss: 0.8355 - accuracy: 0.7524 - val_loss: 0.9935 - val_accuracy: 0.6859\n",
      "Epoch 17/30\n",
      "1474/1474 [==============================] - 185s 126ms/step - loss: 0.8235 - accuracy: 0.7570 - val_loss: 0.9958 - val_accuracy: 0.6836\n",
      "Epoch 18/30\n",
      "1474/1474 [==============================] - 185s 125ms/step - loss: 0.8111 - accuracy: 0.7611 - val_loss: 0.9964 - val_accuracy: 0.6866\n",
      "Epoch 19/30\n",
      "1474/1474 [==============================] - 185s 125ms/step - loss: 0.7999 - accuracy: 0.7653 - val_loss: 1.0172 - val_accuracy: 0.6872\n",
      "Epoch 20/30\n",
      "1474/1474 [==============================] - 185s 126ms/step - loss: 0.7900 - accuracy: 0.7692 - val_loss: 1.0048 - val_accuracy: 0.6853\n",
      "Epoch 21/30\n",
      "1474/1474 [==============================] - 186s 126ms/step - loss: 0.7796 - accuracy: 0.7727 - val_loss: 1.0105 - val_accuracy: 0.6861\n",
      "Epoch 22/30\n",
      "1474/1474 [==============================] - 186s 126ms/step - loss: 0.7701 - accuracy: 0.7759 - val_loss: 1.0242 - val_accuracy: 0.6859\n",
      "Epoch 23/30\n",
      "1474/1474 [==============================] - 186s 126ms/step - loss: 0.7616 - accuracy: 0.7790 - val_loss: 1.0255 - val_accuracy: 0.6854\n",
      "Epoch 24/30\n",
      "1474/1474 [==============================] - 186s 126ms/step - loss: 0.7521 - accuracy: 0.7823 - val_loss: 1.0341 - val_accuracy: 0.6862\n",
      "Epoch 25/30\n",
      "1474/1474 [==============================] - 185s 126ms/step - loss: 0.7442 - accuracy: 0.7849 - val_loss: 1.0302 - val_accuracy: 0.6860\n",
      "Epoch 26/30\n",
      "1474/1474 [==============================] - 186s 126ms/step - loss: 0.7359 - accuracy: 0.7879 - val_loss: 1.0395 - val_accuracy: 0.6871\n",
      "Epoch 27/30\n",
      "1474/1474 [==============================] - 186s 126ms/step - loss: 0.7283 - accuracy: 0.7905 - val_loss: 1.0666 - val_accuracy: 0.6775\n",
      "Epoch 28/30\n",
      "1474/1474 [==============================] - 186s 126ms/step - loss: 0.7212 - accuracy: 0.7928 - val_loss: 1.0494 - val_accuracy: 0.6879\n",
      "Epoch 29/30\n",
      "1474/1474 [==============================] - 186s 126ms/step - loss: 0.7140 - accuracy: 0.7956 - val_loss: 1.0688 - val_accuracy: 0.6881\n",
      "Epoch 30/30\n",
      "1474/1474 [==============================] - 187s 127ms/step - loss: 0.7073 - accuracy: 0.7978 - val_loss: 1.0612 - val_accuracy: 0.6859\n"
     ]
    },
    {
     "data": {
      "text/plain": [
       "<keras.callbacks.History at 0x7f9cc63a3e90>"
      ]
     },
     "execution_count": 30,
     "metadata": {},
     "output_type": "execute_result"
    }
   ],
   "source": [
    "transformer.fit(train_ds, epochs=30, callbacks=callbacks, validation_data=val_ds)"
   ]
  },
  {
   "cell_type": "markdown",
   "id": "193aad7a",
   "metadata": {
    "id": "c1ec1356"
   },
   "source": [
    "#### 3.5 Translating new sentences with the Transformer model"
   ]
  },
  {
   "cell_type": "code",
   "execution_count": 39,
   "id": "5272d98e",
   "metadata": {
    "colab": {
     "base_uri": "https://localhost:8080/"
    },
    "id": "5272d98e",
    "outputId": "16d05059-ca61-48f6-d2b0-d7b228e5eb70",
    "scrolled": false
   },
   "outputs": [
    {
     "name": "stdout",
     "output_type": "stream",
     "text": [
      "-\n",
      "I don't recognize that name.\n",
      "[start] je ne [UNK] pas que ce nom [end]\n",
      "-\n",
      "When are you going back to your own country?\n",
      "[start] quand vastu rentrer à ton pays [end]\n",
      "-\n",
      "Is it always this cold?\n",
      "[start] estce souvent du temps [end]\n",
      "-\n",
      "She attended the meeting.\n",
      "[start] elle a la réunion à [UNK] [end]\n",
      "-\n",
      "What's your favorite number?\n",
      "[start] quel est ton numéro de téléphone préférée [end]\n",
      "-\n",
      "Tom always does that.\n",
      "[start] tom fait toujours ça [end]\n",
      "-\n",
      "Everyone's a winner.\n",
      "[start] tout le monde y [UNK] un [UNK] [end]\n",
      "-\n",
      "I wear a tie almost every day.\n",
      "[start] je porte une cravate presque tous les jours [end]\n",
      "-\n",
      "Is nicotine as addictive as heroin?\n",
      "[start] estce [UNK] mieux de [UNK] [end]\n",
      "-\n",
      "There is nothing to worry about.\n",
      "[start] il ny a rien à ce sujet [end]\n",
      "-\n",
      "Water is heavier than oil.\n",
      "[start] leau est plus lourd que [UNK] [end]\n",
      "-\n",
      "He was too drunk to drive home.\n",
      "[start] il était trop tombé à [UNK] pour rentrer à la maison [end]\n",
      "-\n",
      "She always buys expensive clothes.\n",
      "[start] elle compte toujours que de vêtements propre [end]\n",
      "-\n",
      "I could hardly believe my ears when I heard the news.\n",
      "[start] je pouvais à peine me comprendre qui les oreilles quand je [UNK] [end]\n",
      "-\n",
      "Tom and Mary finally decided to get divorced.\n",
      "[start] tom et marie ont enfin décidé de cuisiner [end]\n",
      "-\n",
      "Tom is the one who knows what needs to be done.\n",
      "[start] tom est qui sache ce sait ce qui doit être fait [end]\n",
      "-\n",
      "A guy nearly ran into us.\n",
      "[start] un type nous est presque tombé sur un type [end]\n",
      "-\n",
      "We have no other option.\n",
      "[start] nous ne nous avons pas [UNK] [end]\n",
      "-\n",
      "She runs a charity.\n",
      "[start] elle [UNK] un à [UNK] [end]\n",
      "-\n",
      "Tom certainly doesn't seem to mind helping Mary.\n",
      "[start] tom ne semble tout à fait pouvoir me donner laide à mary [end]\n"
     ]
    }
   ],
   "source": [
    "fre_vocab = target_vectorization.get_vocabulary()\n",
    "fre_index_lookup = dict(zip(range(len(fre_vocab)), fre_vocab))\n",
    "max_decoded_sentence_length = 20\n",
    "\n",
    "def translate_sequence(input_sentence):\n",
    "    tokenized_input_sentence = source_vectorization([input_sentence])\n",
    "    decoded_sentence = '[start]'\n",
    "    \n",
    "    for i in range(max_decoded_sentence_length):\n",
    "        tokenized_target_sentence = target_vectorization(\n",
    "                            [decoded_sentence])[:, :-1]\n",
    "        predictions = transformer(\n",
    "            [tokenized_input_sentence, tokenized_target_sentence])\n",
    "        sampled_token_index = np.argmax(predictions[0, i, :])\n",
    "        sampled_token = fre_index_lookup[sampled_token_index]\n",
    "        decoded_sentence += ' ' + sampled_token\n",
    "        if sampled_token == '[end]':\n",
    "            break\n",
    "    return decoded_sentence\n",
    "    \n",
    "eng_test_texts = [pair[0] for pair in test_pairs]\n",
    "for _ in range(20):\n",
    "    sentence = random.choice(eng_test_texts)\n",
    "    print('-')\n",
    "    print(sentence)\n",
    "    print(translate_sequence(sentence))"
   ]
  },
  {
   "cell_type": "code",
   "execution_count": 31,
   "id": "b8bbb12e",
   "metadata": {
    "id": "b8bbb12e"
   },
   "outputs": [],
   "source": []
  }
 ],
 "metadata": {
  "accelerator": "GPU",
  "colab": {
   "collapsed_sections": [
    "d0980caa",
    "d95464e3"
   ],
   "name": "English_2_French_Machine_Translation_with_Transformer-colab New.ipynb",
   "provenance": []
  },
  "kernelspec": {
   "display_name": "Python 3",
   "language": "python",
   "name": "python3"
  },
  "language_info": {
   "codemirror_mode": {
    "name": "ipython",
    "version": 3
   },
   "file_extension": ".py",
   "mimetype": "text/x-python",
   "name": "python",
   "nbconvert_exporter": "python",
   "pygments_lexer": "ipython3",
   "version": "3.8.8"
  }
 },
 "nbformat": 4,
 "nbformat_minor": 5
}
